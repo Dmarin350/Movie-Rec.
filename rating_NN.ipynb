{
 "cells": [
  {
   "cell_type": "code",
   "execution_count": 28,
   "id": "434b1c3f",
   "metadata": {},
   "outputs": [],
   "source": [
    "import numpy as np\n",
    "import pandas as pd\n",
    "import matplotlib.pyplot as plt\n",
    "from sklearn.feature_extraction.text import TfidfVectorizer"
   ]
  },
  {
   "cell_type": "code",
   "execution_count": 29,
   "id": "4940e41b",
   "metadata": {},
   "outputs": [],
   "source": [
    "df = pd.read_csv('imdb-movies-dataset.csv')"
   ]
  },
  {
   "cell_type": "code",
   "execution_count": 30,
   "id": "2f26cc35",
   "metadata": {},
   "outputs": [],
   "source": [
    "df['combined_features'] = (\n",
    "    df['Title'] + ' ' + df['Director'] + ' ' + df['Description'] + ' ' + df['Cast']\n",
    ")"
   ]
  },
  {
   "cell_type": "code",
   "execution_count": 31,
   "id": "66aaf056",
   "metadata": {},
   "outputs": [],
   "source": [
    "df['combined_features'] = df['combined_features'].fillna('')\n"
   ]
  },
  {
   "cell_type": "code",
   "execution_count": 33,
   "id": "87ed416a",
   "metadata": {},
   "outputs": [],
   "source": [
    "import torch\n",
    "import torch.nn as nn\n",
    "import torch.optim as optim\n",
    "from sklearn.model_selection import train_test_split\n",
    "from sklearn.preprocessing import StandardScaler\n",
    "from torch.utils.data import DataLoader, TensorDataset"
   ]
  },
  {
   "cell_type": "code",
   "execution_count": 34,
   "id": "31468182",
   "metadata": {},
   "outputs": [],
   "source": [
    "vectorizer = TfidfVectorizer(max_features=5000)  # Limit to top 5000 features\n",
    "feature_vectors = vectorizer.fit_transform(df['combined_features'])"
   ]
  },
  {
   "cell_type": "code",
   "execution_count": 46,
   "id": "ebe4ec06",
   "metadata": {
    "scrolled": true
   },
   "outputs": [],
   "source": [
    "from sklearn.preprocessing import MinMaxScaler\n",
    "\n",
    "scaler = MinMaxScaler()\n",
    "df['Rating'] = scaler.fit_transform(df[['Rating']])\n"
   ]
  },
  {
   "cell_type": "code",
   "execution_count": 47,
   "id": "829c4b5b",
   "metadata": {},
   "outputs": [],
   "source": [
    "X_train, X_test, y_train, y_test = train_test_split(\n",
    "    feature_vectors, df['Rating'], test_size=0.2, random_state=42\n",
    ")"
   ]
  },
  {
   "cell_type": "code",
   "execution_count": 48,
   "id": "1cb8dc87",
   "metadata": {},
   "outputs": [],
   "source": [
    "X_train_tensor = torch.tensor(X_train.toarray(), dtype=torch.float32)\n",
    "X_test_tensor = torch.tensor(X_test.toarray(), dtype=torch.float32)\n",
    "y_train_tensor = torch.tensor(y_train.values, dtype=torch.float32).view(-1, 1)\n",
    "y_test_tensor = torch.tensor(y_test.values, dtype=torch.float32).view(-1, 1)"
   ]
  },
  {
   "cell_type": "code",
   "execution_count": 49,
   "id": "9ccd878f",
   "metadata": {},
   "outputs": [],
   "source": [
    "X_train_tensor = torch.nan_to_num(X_train_tensor, nan=0.0, posinf=1e6, neginf=-1e6)\n",
    "y_train_tensor = torch.nan_to_num(y_train_tensor, nan=0.0, posinf=1e6, neginf=-1e6)\n"
   ]
  },
  {
   "cell_type": "code",
   "execution_count": 50,
   "id": "be672480",
   "metadata": {},
   "outputs": [],
   "source": [
    "class MovieRatingPredictor(nn.Module):\n",
    "    def __init__(self, input_size):\n",
    "        super(MovieRatingPredictor, self).__init__()\n",
    "        self.fc = nn.Sequential(\n",
    "            nn.Linear(input_size, 128),\n",
    "            nn.ReLU(),\n",
    "            nn.Linear(128, 64),\n",
    "            nn.ReLU(),\n",
    "            nn.Linear(64, 1) \n",
    "        )\n",
    "\n",
    "    def forward(self, x):\n",
    "        return self.fc(x)\n",
    "\n",
    "# Initialize the model\n",
    "input_size = X_train_tensor.shape[1]\n",
    "model = MovieRatingPredictor(input_size)"
   ]
  },
  {
   "cell_type": "code",
   "execution_count": 77,
   "id": "f1e0a9c5",
   "metadata": {},
   "outputs": [
    {
     "name": "stdout",
     "output_type": "stream",
     "text": [
      "Epoch 1/20, Loss: 0.0112\n",
      "Epoch 2/20, Loss: 0.0128\n",
      "Epoch 3/20, Loss: 0.0109\n",
      "Epoch 4/20, Loss: 0.0116\n",
      "Epoch 5/20, Loss: 0.0118\n",
      "Epoch 6/20, Loss: 0.0110\n",
      "Epoch 7/20, Loss: 0.0105\n",
      "Epoch 8/20, Loss: 0.0106\n",
      "Epoch 9/20, Loss: 0.0108\n",
      "Epoch 10/20, Loss: 0.0106\n",
      "Epoch 11/20, Loss: 0.0102\n",
      "Epoch 12/20, Loss: 0.0099\n",
      "Epoch 13/20, Loss: 0.0100\n",
      "Epoch 14/20, Loss: 0.0100\n",
      "Epoch 15/20, Loss: 0.0098\n",
      "Epoch 16/20, Loss: 0.0096\n",
      "Epoch 17/20, Loss: 0.0094\n",
      "Epoch 18/20, Loss: 0.0093\n",
      "Epoch 19/20, Loss: 0.0093\n",
      "Epoch 20/20, Loss: 0.0092\n"
     ]
    }
   ],
   "source": [
    "criterion = nn.MSELoss()  # Mean Squared Error for regression\n",
    "optimizer = optim.Adam(model.parameters(), lr=0.001)\n",
    "\n",
    "# Training loop\n",
    "epochs = 20\n",
    "for epoch in range(epochs):\n",
    "    model.train()\n",
    "    optimizer.zero_grad()\n",
    "    predictions = model(X_train_tensor)\n",
    "    loss = criterion(predictions, y_train_tensor)\n",
    "    loss.backward()\n",
    "    optimizer.step()\n",
    "    \n",
    "    print(f\"Epoch {epoch+1}/{epochs}, Loss: {loss.item():.4f}\")\n",
    "        "
   ]
  },
  {
   "cell_type": "code",
   "execution_count": 78,
   "id": "141971ec",
   "metadata": {},
   "outputs": [
    {
     "name": "stdout",
     "output_type": "stream",
     "text": [
      "Test Loss: 0.0353\n"
     ]
    }
   ],
   "source": [
    "X_test_tensor = torch.nan_to_num(X_test_tensor)\n",
    "y_test_tensor = torch.nan_to_num(y_test_tensor)\n",
    "\n",
    "\n",
    "model.eval()\n",
    "with torch.no_grad():\n",
    "    test_predictions = model(X_test_tensor)\n",
    "    test_loss = criterion(test_predictions, y_test_tensor)\n",
    "    print(f\"Test Loss: {test_loss.item():.4f}\")"
   ]
  },
  {
   "cell_type": "code",
   "execution_count": 79,
   "id": "0994d31b",
   "metadata": {},
   "outputs": [
    {
     "name": "stdout",
     "output_type": "stream",
     "text": [
      "Predicted Rating: 6.5\n"
     ]
    }
   ],
   "source": [
    "myData = [['Iron Man', 'Jon Favreau', 'A billionaire industrialist and genius inventor, Tony Stark (Robert Downey Jr.), is conducting weapons tests overseas, but terrorists kidnap him to force him to build a devastating weapon. Instead, he builds an armored suit and upends his captors. Returning to America, Stark refines the suit and uses it to combat crime and terrorism.', 'Robert Downey Jr, Dante Vargas, Daniel Marin']]\n",
    "myData_combined = [\n",
    "    ' '.join(myData[0])  # Combine the features into a single string\n",
    "]\n",
    "\n",
    "# Transform the text into feature vectors using the pre-trained vectorizer\n",
    "myData_transformed = vectorizer.transform(myData_combined)\n",
    "\n",
    "# Convert to a PyTorch tensor\n",
    "myData_tensor = torch.tensor(myData_transformed.toarray(), dtype=torch.float32)\n",
    "\n",
    "# Make predictions\n",
    "model.eval()\n",
    "with torch.no_grad():\n",
    "    predictions = model(myData_tensor)\n",
    "print(f\"Predicted Rating: {predictions.item()*10:.1f}\")\n"
   ]
  },
  {
   "cell_type": "code",
   "execution_count": 80,
   "id": "218d5fdb",
   "metadata": {},
   "outputs": [
    {
     "name": "stdout",
     "output_type": "stream",
     "text": [
      "Predicted Rating: 6.9\n"
     ]
    }
   ],
   "source": [
    "myData = [['Titanic', 'James Cameron', 'A seventeen-year-old aristocrat falls in love with a kind but poor artist aboard the luxurious,', 'Leonardo DiCaprio, Kate Winslet, Billy Zane, Kathy Bates']]\n",
    "myData_combined = [\n",
    "    ' '.join(myData[0])  # Combine the features into a single string\n",
    "]\n",
    "\n",
    "# Transform the text into feature vectors using the pre-trained vectorizer\n",
    "myData_transformed = vectorizer.transform(myData_combined)\n",
    "\n",
    "# Convert to a PyTorch tensor\n",
    "myData_tensor = torch.tensor(myData_transformed.toarray(), dtype=torch.float32)\n",
    "\n",
    "# Make predictions\n",
    "model.eval()\n",
    "with torch.no_grad():\n",
    "    predictions = model(myData_tensor)\n",
    "print(f\"Predicted Rating: {predictions.item()*10:.1f}\")"
   ]
  },
  {
   "cell_type": "code",
   "execution_count": 82,
   "id": "cfa75677",
   "metadata": {},
   "outputs": [],
   "source": [
    "def movie_rater(myData):\n",
    "    myData_combined = [\n",
    "        ' '.join(myData[0])  # Combine the features into a single string\n",
    "    ]\n",
    "\n",
    "    # Transform the text into feature vectors using the pre-trained vectorizer\n",
    "    myData_transformed = vectorizer.transform(myData_combined)\n",
    "\n",
    "    # Convert to a PyTorch tensor\n",
    "    myData_tensor = torch.tensor(myData_transformed.toarray(), dtype=torch.float32)\n",
    "\n",
    "    # Make predictions\n",
    "    model.eval()\n",
    "    with torch.no_grad():\n",
    "        predictions = model(myData_tensor)\n",
    "    return (predictions.item()*10)"
   ]
  },
  {
   "cell_type": "code",
   "execution_count": null,
   "id": "e790f630",
   "metadata": {},
   "outputs": [],
   "source": []
  }
 ],
 "metadata": {
  "kernelspec": {
   "display_name": "Python 3 (ipykernel)",
   "language": "python",
   "name": "python3"
  },
  "language_info": {
   "codemirror_mode": {
    "name": "ipython",
    "version": 3
   },
   "file_extension": ".py",
   "mimetype": "text/x-python",
   "name": "python",
   "nbconvert_exporter": "python",
   "pygments_lexer": "ipython3",
   "version": "3.11.4"
  }
 },
 "nbformat": 4,
 "nbformat_minor": 5
}
